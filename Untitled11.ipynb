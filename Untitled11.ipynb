{
 "cells": [
  {
   "cell_type": "markdown",
   "id": "4aad27ff",
   "metadata": {},
   "source": [
    "Case study on Supervised learning ,Do the following in the iris dataset.\n",
    "\n",
    "   1.Read the dataset to the python environment                                                                               .\n",
    "   2.Do necessary pre-processing steps                                                                                        .\n",
    "   3.Find out which classification model gives the best result to predict iris species.(also do random forest algorithm"
   ]
  },
  {
   "cell_type": "code",
   "execution_count": 16,
   "id": "2114ce79",
   "metadata": {},
   "outputs": [],
   "source": [
    "import numpy as np\n",
    "import pandas as pd\n",
    "import matplotlib.pyplot as plt\n",
    "import seaborn as sns\n",
    "import scipy.stats as stat\n",
    "import warnings\n",
    "warnings.filterwarnings('ignore')"
   ]
  },
  {
   "cell_type": "markdown",
   "id": "5bb7acb5",
   "metadata": {},
   "source": [
    "# 1.Read the dataset to the python environment."
   ]
  },
  {
   "cell_type": "code",
   "execution_count": 4,
   "id": "635c2203",
   "metadata": {},
   "outputs": [],
   "source": [
    "data=pd.read_excel(r'C:\\Users\\hp\\Downloads\\iris.xls')"
   ]
  },
  {
   "cell_type": "code",
   "execution_count": 5,
   "id": "945e2804",
   "metadata": {},
   "outputs": [
    {
     "data": {
      "text/html": [
       "<div>\n",
       "<style scoped>\n",
       "    .dataframe tbody tr th:only-of-type {\n",
       "        vertical-align: middle;\n",
       "    }\n",
       "\n",
       "    .dataframe tbody tr th {\n",
       "        vertical-align: top;\n",
       "    }\n",
       "\n",
       "    .dataframe thead th {\n",
       "        text-align: right;\n",
       "    }\n",
       "</style>\n",
       "<table border=\"1\" class=\"dataframe\">\n",
       "  <thead>\n",
       "    <tr style=\"text-align: right;\">\n",
       "      <th></th>\n",
       "      <th>SL</th>\n",
       "      <th>SW</th>\n",
       "      <th>PL</th>\n",
       "      <th>PW</th>\n",
       "      <th>Classification</th>\n",
       "    </tr>\n",
       "  </thead>\n",
       "  <tbody>\n",
       "    <tr>\n",
       "      <th>0</th>\n",
       "      <td>5.1</td>\n",
       "      <td>3.5</td>\n",
       "      <td>1.4</td>\n",
       "      <td>0.2</td>\n",
       "      <td>Iris-setosa</td>\n",
       "    </tr>\n",
       "    <tr>\n",
       "      <th>1</th>\n",
       "      <td>4.9</td>\n",
       "      <td>3.0</td>\n",
       "      <td>1.4</td>\n",
       "      <td>0.2</td>\n",
       "      <td>Iris-setosa</td>\n",
       "    </tr>\n",
       "    <tr>\n",
       "      <th>2</th>\n",
       "      <td>NaN</td>\n",
       "      <td>3.2</td>\n",
       "      <td>1.3</td>\n",
       "      <td>0.2</td>\n",
       "      <td>Iris-setosa</td>\n",
       "    </tr>\n",
       "    <tr>\n",
       "      <th>3</th>\n",
       "      <td>4.6</td>\n",
       "      <td>3.1</td>\n",
       "      <td>1.5</td>\n",
       "      <td>0.2</td>\n",
       "      <td>Iris-setosa</td>\n",
       "    </tr>\n",
       "    <tr>\n",
       "      <th>4</th>\n",
       "      <td>5.0</td>\n",
       "      <td>3.6</td>\n",
       "      <td>1.4</td>\n",
       "      <td>0.2</td>\n",
       "      <td>Iris-setosa</td>\n",
       "    </tr>\n",
       "    <tr>\n",
       "      <th>...</th>\n",
       "      <td>...</td>\n",
       "      <td>...</td>\n",
       "      <td>...</td>\n",
       "      <td>...</td>\n",
       "      <td>...</td>\n",
       "    </tr>\n",
       "    <tr>\n",
       "      <th>145</th>\n",
       "      <td>6.7</td>\n",
       "      <td>3.0</td>\n",
       "      <td>5.2</td>\n",
       "      <td>2.3</td>\n",
       "      <td>Iris-virginica</td>\n",
       "    </tr>\n",
       "    <tr>\n",
       "      <th>146</th>\n",
       "      <td>6.3</td>\n",
       "      <td>2.5</td>\n",
       "      <td>5.0</td>\n",
       "      <td>1.9</td>\n",
       "      <td>Iris-virginica</td>\n",
       "    </tr>\n",
       "    <tr>\n",
       "      <th>147</th>\n",
       "      <td>6.5</td>\n",
       "      <td>3.0</td>\n",
       "      <td>NaN</td>\n",
       "      <td>2.0</td>\n",
       "      <td>Iris-virginica</td>\n",
       "    </tr>\n",
       "    <tr>\n",
       "      <th>148</th>\n",
       "      <td>6.2</td>\n",
       "      <td>3.4</td>\n",
       "      <td>5.4</td>\n",
       "      <td>2.3</td>\n",
       "      <td>Iris-virginica</td>\n",
       "    </tr>\n",
       "    <tr>\n",
       "      <th>149</th>\n",
       "      <td>5.9</td>\n",
       "      <td>3.0</td>\n",
       "      <td>5.1</td>\n",
       "      <td>1.8</td>\n",
       "      <td>Iris-virginica</td>\n",
       "    </tr>\n",
       "  </tbody>\n",
       "</table>\n",
       "<p>150 rows × 5 columns</p>\n",
       "</div>"
      ],
      "text/plain": [
       "      SL   SW   PL   PW  Classification\n",
       "0    5.1  3.5  1.4  0.2     Iris-setosa\n",
       "1    4.9  3.0  1.4  0.2     Iris-setosa\n",
       "2    NaN  3.2  1.3  0.2     Iris-setosa\n",
       "3    4.6  3.1  1.5  0.2     Iris-setosa\n",
       "4    5.0  3.6  1.4  0.2     Iris-setosa\n",
       "..   ...  ...  ...  ...             ...\n",
       "145  6.7  3.0  5.2  2.3  Iris-virginica\n",
       "146  6.3  2.5  5.0  1.9  Iris-virginica\n",
       "147  6.5  3.0  NaN  2.0  Iris-virginica\n",
       "148  6.2  3.4  5.4  2.3  Iris-virginica\n",
       "149  5.9  3.0  5.1  1.8  Iris-virginica\n",
       "\n",
       "[150 rows x 5 columns]"
      ]
     },
     "execution_count": 5,
     "metadata": {},
     "output_type": "execute_result"
    }
   ],
   "source": [
    "data"
   ]
  },
  {
   "cell_type": "markdown",
   "id": "2a8e9a4c",
   "metadata": {},
   "source": [
    "#   2.Do necessary pre-processing steps."
   ]
  },
  {
   "cell_type": "code",
   "execution_count": 6,
   "id": "f959ac5b",
   "metadata": {},
   "outputs": [
    {
     "data": {
      "text/plain": [
       "SL                7\n",
       "SW                6\n",
       "PL                6\n",
       "PW                0\n",
       "Classification    0\n",
       "dtype: int64"
      ]
     },
     "execution_count": 6,
     "metadata": {},
     "output_type": "execute_result"
    }
   ],
   "source": [
    "data.isnull().sum()"
   ]
  },
  {
   "cell_type": "code",
   "execution_count": 7,
   "id": "7f5b0d47",
   "metadata": {},
   "outputs": [
    {
     "data": {
      "text/plain": [
       "<AxesSubplot:xlabel='SL', ylabel='Density'>"
      ]
     },
     "execution_count": 7,
     "metadata": {},
     "output_type": "execute_result"
    },
    {
     "data": {
      "image/png": "[encoded data removed]",
      "text/plain": [
       "<Figure size 432x288 with 1 Axes>"
      ]
     },
     "metadata": {
      "needs_background": "light"
     },
     "output_type": "display_data"
    }
   ],
   "source": [
    "sns.distplot(data.SL)"
   ]
  },
  {
   "cell_type": "code",
   "execution_count": 8,
   "id": "8604db2e",
   "metadata": {},
   "outputs": [
    {
     "data": {
      "text/plain": [
       "<AxesSubplot:xlabel='SW', ylabel='Density'>"
      ]
     },
     "execution_count": 8,
     "metadata": {},
     "output_type": "execute_result"
    },
    {
     "data": {
      "image/png": "[encoded data removed]",
      "text/plain": [
       "<Figure size 432x288 with 1 Axes>"
      ]
     },
     "metadata": {
      "needs_background": "light"
     },
     "output_type": "display_data"
    }
   ],
   "source": [
    "sns.distplot(data.SW)"
   ]
  },
  {
   "cell_type": "code",
   "execution_count": 9,
   "id": "3e0b1bb3",
   "metadata": {},
   "outputs": [
    {
     "data": {
      "text/plain": [
       "<AxesSubplot:xlabel='PL', ylabel='Density'>"
      ]
     },
     "execution_count": 9,
     "metadata": {},
     "output_type": "execute_result"
    },
    {
     "data": {
      "image/png": "[encoded data removed]",
      "text/plain": [
       "<Figure size 432x288 with 1 Axes>"
      ]
     },
     "metadata": {
      "needs_background": "light"
     },
     "output_type": "display_data"
    }
   ],
   "source": [
    "sns.distplot(data.PL)"
   ]
  },
  {
   "cell_type": "code",
   "execution_count": 10,
   "id": "e49ad27d",
   "metadata": {},
   "outputs": [],
   "source": [
    "for i in [\"SL\",\"SW\",\"PL\"]:\n",
    "    data[i]=data[i].fillna(data[i].median())"
   ]
  },
  {
   "cell_type": "code",
   "execution_count": 11,
   "id": "b7ec5537",
   "metadata": {},
   "outputs": [
    {
     "data": {
      "text/plain": [
       "SL                0\n",
       "SW                0\n",
       "PL                0\n",
       "PW                0\n",
       "Classification    0\n",
       "dtype: int64"
      ]
     },
     "execution_count": 11,
     "metadata": {},
     "output_type": "execute_result"
    }
   ],
   "source": [
    "data.isnull().sum()"
   ]
  },
  {
   "cell_type": "code",
   "execution_count": 12,
   "id": "25249d67",
   "metadata": {},
   "outputs": [
    {
     "data": {
      "text/plain": [
       "<AxesSubplot:xlabel='SL'>"
      ]
     },
     "execution_count": 12,
     "metadata": {},
     "output_type": "execute_result"
    },
    {
     "data": {
      "image/png": "[encoded data removed]",
      "text/plain": [
       "<Figure size 432x288 with 1 Axes>"
      ]
     },
     "metadata": {
      "needs_background": "light"
     },
     "output_type": "display_data"
    }
   ],
   "source": [
    "sns.boxplot(data.SL)"
   ]
  },
  {
   "cell_type": "code",
   "execution_count": 13,
   "id": "021cb5f2",
   "metadata": {},
   "outputs": [
    {
     "data": {
      "text/plain": [
       "<AxesSubplot:xlabel='SW'>"
      ]
     },
     "execution_count": 13,
     "metadata": {},
     "output_type": "execute_result"
    },
    {
     "data": {
      "image/png": "[encoded data removed]",
      "text/plain": [
       "<Figure size 432x288 with 1 Axes>"
      ]
     },
     "metadata": {
      "needs_background": "light"
     },
     "output_type": "display_data"
    }
   ],
   "source": [
    "sns.boxplot(data.SW)"
   ]
  },
  {
   "cell_type": "code",
   "execution_count": 14,
   "id": "3899381b",
   "metadata": {},
   "outputs": [
    {
     "data": {
      "text/plain": [
       "<AxesSubplot:xlabel='PL'>"
      ]
     },
     "execution_count": 14,
     "metadata": {},
     "output_type": "execute_result"
    },
    {
     "data": {
      "image/png": "[encoded data removed]",
      "text/plain": [
       "<Figure size 432x288 with 1 Axes>"
      ]
     },
     "metadata": {
      "needs_background": "light"
     },
     "output_type": "display_data"
    }
   ],
   "source": [
    "sns.boxplot(data.PL)"
   ]
  },
  {
   "cell_type": "code",
   "execution_count": 15,
   "id": "3945ec13",
   "metadata": {},
   "outputs": [
    {
     "data": {
      "text/plain": [
       "<AxesSubplot:xlabel='PW'>"
      ]
     },
     "execution_count": 15,
     "metadata": {},
     "output_type": "execute_result"
    },
    {
     "data": {
      "image/png": "[encoded data removed]",
      "text/plain": [
       "<Figure size 432x288 with 1 Axes>"
      ]
     },
     "metadata": {
      "needs_background": "light"
     },
     "output_type": "display_data"
    }
   ],
   "source": [
    "sns.boxplot(data.PW)"
   ]
  },
  {
   "cell_type": "markdown",
   "id": "43dfd67b",
   "metadata": {},
   "source": [
    "Thers is outlier present in the feature SW, whereas no outliers in other features namely SL,PL,PW."
   ]
  },
  {
   "cell_type": "code",
   "execution_count": 20,
   "id": "2d3ee73e",
   "metadata": {},
   "outputs": [],
   "source": [
    "Q1=np.percentile(data['SW'],25,interpolation=\"midpoint\")\n",
    "Q3=np.percentile(data['SW'],75,interpolation=\"midpoint\")\n",
    "IQR=Q3-Q1\n",
    "low_lim=Q1-1.5*IQR\n",
    "up_lim=Q3+1.5*IQR\n",
    "\n",
    "outlier=[]\n",
    "for x in data[\"SW\"]:\n",
    "    if(x>=up_lim)or(x<=low_lim):\n",
    "        outlier.append(x)\n",
    "\n",
    "median_sw=float(np.median(data['SW']))\n",
    "for i in outlier:\n",
    "    data.loc[data['SW']==i, 'SW'] = np.nan \n",
    "data['SW'].fillna(median_sw,inplace=True)"
   ]
  },
  {
   "cell_type": "code",
   "execution_count": 21,
   "id": "c085f196",
   "metadata": {},
   "outputs": [
    {
     "data": {
      "text/plain": [
       "<AxesSubplot:xlabel='SW'>"
      ]
     },
     "execution_count": 21,
     "metadata": {},
     "output_type": "execute_result"
    },
    {
     "data": {
      "image/png": "[encoded data removed]",
      "text/plain": [
       "<Figure size 432x288 with 1 Axes>"
      ]
     },
     "metadata": {
      "needs_background": "light"
     },
     "output_type": "display_data"
    }
   ],
   "source": [
    "sns.boxplot(data.SW)"
   ]
  },
  {
   "cell_type": "markdown",
   "id": "43a136e4",
   "metadata": {},
   "source": [
    "# LABEL ENCODING"
   ]
  },
  {
   "cell_type": "code",
   "execution_count": 22,
   "id": "33d19008",
   "metadata": {},
   "outputs": [
    {
     "data": {
      "text/plain": [
       "Iris-setosa        50\n",
       "Iris-versicolor    50\n",
       "Iris-virginica     50\n",
       "Name: Classification, dtype: int64"
      ]
     },
     "execution_count": 22,
     "metadata": {},
     "output_type": "execute_result"
    }
   ],
   "source": [
    "data['Classification'].value_counts()"
   ]
  },
  {
   "cell_type": "code",
   "execution_count": 23,
   "id": "7b041238",
   "metadata": {},
   "outputs": [
    {
     "data": {
      "text/plain": [
       "0      0\n",
       "1      0\n",
       "2      0\n",
       "3      0\n",
       "4      0\n",
       "      ..\n",
       "145    2\n",
       "146    2\n",
       "147    2\n",
       "148    2\n",
       "149    2\n",
       "Name: Classification, Length: 150, dtype: int32"
      ]
     },
     "execution_count": 23,
     "metadata": {},
     "output_type": "execute_result"
    }
   ],
   "source": [
    "from sklearn import preprocessing\n",
    "le = preprocessing.LabelEncoder()\n",
    "data['Classification']=le.fit_transform(data['Classification'])\n",
    "data['Classification']"
   ]
  },
  {
   "cell_type": "markdown",
   "id": "24d61ac6",
   "metadata": {},
   "source": [
    "# Splitting the Dataset"
   ]
  },
  {
   "cell_type": "code",
   "execution_count": 24,
   "id": "37750469",
   "metadata": {},
   "outputs": [],
   "source": [
    "y=data['Classification']\n",
    "x=data.drop(['Classification'], axis=1)\n"
   ]
  },
  {
   "cell_type": "code",
   "execution_count": 25,
   "id": "cad97c97",
   "metadata": {},
   "outputs": [],
   "source": [
    "from sklearn.model_selection import train_test_split\n",
    "x_train, x_test, y_train, y_test= train_test_split(x, y, test_size= 0.2, random_state=42)"
   ]
  },
  {
   "cell_type": "code",
   "execution_count": 26,
   "id": "1e35d03b",
   "metadata": {},
   "outputs": [
    {
     "data": {
      "text/plain": [
       "(120, 4)"
      ]
     },
     "execution_count": 26,
     "metadata": {},
     "output_type": "execute_result"
    }
   ],
   "source": [
    "x_train.shape"
   ]
  },
  {
   "cell_type": "code",
   "execution_count": 27,
   "id": "ad0f14c0",
   "metadata": {},
   "outputs": [
    {
     "data": {
      "text/plain": [
       "(30, 4)"
      ]
     },
     "execution_count": 27,
     "metadata": {},
     "output_type": "execute_result"
    }
   ],
   "source": [
    "x_test.shape"
   ]
  },
  {
   "cell_type": "markdown",
   "id": "0e492789",
   "metadata": {},
   "source": [
    "# Standard Scaling"
   ]
  },
  {
   "cell_type": "code",
   "execution_count": 28,
   "id": "2d0eb311",
   "metadata": {},
   "outputs": [],
   "source": [
    "from sklearn.preprocessing import StandardScaler\n",
    "scaler=StandardScaler()\n",
    "x_train=scaler.fit_transform(x_train)\n",
    "x_test=scaler.fit_transform(x_test)"
   ]
  },
  {
   "cell_type": "markdown",
   "id": "c66b4985",
   "metadata": {},
   "source": [
    "# 3.Find out which classification model gives the best result to predict iris species.(also do random forest algorithm"
   ]
  },
  {
   "cell_type": "code",
   "execution_count": 29,
   "id": "3255b74a",
   "metadata": {},
   "outputs": [],
   "source": [
    "X  =data[['SL','SW','PL','PW']]\n",
    "y= data['Classification']\n",
    "\n",
    "from sklearn.model_selection import train_test_split\n",
    "X_train, X_test, y_train, y_test = train_test_split(X,y,test_size=0.3,random_state=42)"
   ]
  },
  {
   "cell_type": "markdown",
   "id": "f9a71331",
   "metadata": {},
   "source": [
    "# a) SVM Classifier\n"
   ]
  },
  {
   "cell_type": "markdown",
   "id": "456aa5fb",
   "metadata": {},
   "source": [
    "# Linear"
   ]
  },
  {
   "cell_type": "code",
   "execution_count": 30,
   "id": "6d5e9fc5",
   "metadata": {},
   "outputs": [
    {
     "name": "stdout",
     "output_type": "stream",
     "text": [
      "ACCURACY of the model:  0.9777777777777777\n",
      "F - score of the model:  0.9786453119786453\n",
      "Precision score of the model:  0.9761904761904763\n",
      "Recall score of the model:  0.9824561403508771\n",
      "Confuion Matrix \n",
      " [[18  1  0]\n",
      " [ 0 13  0]\n",
      " [ 0  0 13]]\n"
     ]
    }
   ],
   "source": [
    "from sklearn.svm import SVC\n",
    "from sklearn.metrics import accuracy_score,confusion_matrix,precision_score,recall_score,f1_score\n",
    "svm_linear=SVC(kernel='linear')\n",
    "svm_linear.fit(X_train,y_train)\n",
    "y_pred=svm_linear.predict(X_test)\n",
    "# using metrics module for accuracy calculation\n",
    "print(\"ACCURACY of the model: \", accuracy_score(y_test, y_pred))\n",
    "print(\"F - score of the model: \", f1_score(y_test, y_pred,average='macro'))\n",
    "print(\"Precision score of the model: \", precision_score(y_test, y_pred,average='macro'))\n",
    "print(\"Recall score of the model: \", recall_score(y_test, y_pred,average='macro'))\n",
    "print(\"Confuion Matrix \\n\", confusion_matrix(y_test, y_pred))"
   ]
  },
  {
   "cell_type": "markdown",
   "id": "fcafe199",
   "metadata": {},
   "source": [
    "# polynomial"
   ]
  },
  {
   "cell_type": "code",
   "execution_count": 31,
   "id": "d4038a1b",
   "metadata": {},
   "outputs": [
    {
     "name": "stdout",
     "output_type": "stream",
     "text": [
      "ACCURACY of the model:  0.9777777777777777\n",
      "F - score of the model:  0.974320987654321\n",
      "Precision score of the model:  0.9761904761904763\n",
      "Recall score of the model:  0.9743589743589745\n",
      "Confuion Matrix \n",
      " [[19  0  0]\n",
      " [ 0 12  1]\n",
      " [ 0  0 13]]\n"
     ]
    }
   ],
   "source": [
    "svm_poly=SVC(kernel='poly')\n",
    "svm_poly.fit(X_train,y_train)\n",
    "y_pred=svm_poly.predict(X_test)\n",
    "# using metrics module for accuracy calculation\n",
    "print(\"ACCURACY of the model: \", accuracy_score(y_test, y_pred))\n",
    "print(\"F - score of the model: \", f1_score(y_test, y_pred,average='macro'))\n",
    "print(\"Precision score of the model: \", precision_score(y_test, y_pred,average='macro'))\n",
    "print(\"Recall score of the model: \", recall_score(y_test, y_pred,average='macro'))\n",
    "print(\"Confuion Matrix \\n\", confusion_matrix(y_test, y_pred))"
   ]
  },
  {
   "cell_type": "markdown",
   "id": "d5cc500c",
   "metadata": {},
   "source": [
    "# Radial Basis Function(RBF)"
   ]
  },
  {
   "cell_type": "code",
   "execution_count": 32,
   "id": "c308f757",
   "metadata": {},
   "outputs": [
    {
     "name": "stdout",
     "output_type": "stream",
     "text": [
      "ACCURACY of the model:  0.9777777777777777\n",
      "F - score of the model:  0.9786453119786453\n",
      "Precision score of the model:  0.9761904761904763\n",
      "Recall score of the model:  0.9824561403508771\n",
      "Confuion Matrix \n",
      " [[18  1  0]\n",
      " [ 0 13  0]\n",
      " [ 0  0 13]]\n"
     ]
    }
   ],
   "source": [
    "svm_radial=SVC(kernel='rbf')\n",
    "svm_radial.fit(X_train,y_train)\n",
    "y_pred=svm_radial.predict(X_test)\n",
    "print(\"ACCURACY of the model: \", accuracy_score(y_test, y_pred))\n",
    "print(\"F - score of the model: \", f1_score(y_test, y_pred,average='macro'))\n",
    "print(\"Precision score of the model: \", precision_score(y_test, y_pred,average='macro'))\n",
    "print(\"Recall score of the model: \", recall_score(y_test, y_pred,average='macro'))\n",
    "print(\"Confuion Matrix \\n\", confusion_matrix(y_test, y_pred))"
   ]
  },
  {
   "cell_type": "markdown",
   "id": "f829acee",
   "metadata": {},
   "source": [
    "# b) Decision Tree classifier"
   ]
  },
  {
   "cell_type": "code",
   "execution_count": 33,
   "id": "b396401e",
   "metadata": {},
   "outputs": [
    {
     "name": "stdout",
     "output_type": "stream",
     "text": [
      "ACCURACY of the model:  1.0\n",
      "F - score of the model:  1.0\n",
      "Precision score of the model:  1.0\n",
      "Recall score of the model:  1.0\n",
      "Confuion Matrix \n",
      " [[19  0  0]\n",
      " [ 0 13  0]\n",
      " [ 0  0 13]]\n"
     ]
    }
   ],
   "source": [
    "\n",
    "from sklearn.tree import DecisionTreeClassifier\n",
    "dt_model=DecisionTreeClassifier(random_state=0)\n",
    "dt_model.fit(X_train,y_train)\n",
    "y_pred=dt_model.predict(X_test)\n",
    "print(\"ACCURACY of the model: \", accuracy_score(y_test, y_pred))\n",
    "print(\"F - score of the model: \", f1_score(y_test, y_pred,average='macro'))\n",
    "print(\"Precision score of the model: \", precision_score(y_test, y_pred,average='macro'))\n",
    "print(\"Recall score of the model: \", recall_score(y_test, y_pred,average='macro'))\n",
    "print(\"Confuion Matrix \\n\", confusion_matrix(y_test, y_pred))"
   ]
  },
  {
   "cell_type": "markdown",
   "id": "51c4fbeb",
   "metadata": {},
   "source": [
    "# c) Logistic Regression Model"
   ]
  },
  {
   "cell_type": "code",
   "execution_count": 34,
   "id": "93579805",
   "metadata": {},
   "outputs": [
    {
     "name": "stdout",
     "output_type": "stream",
     "text": [
      "ACCURACY of the model:  0.9777777777777777\n",
      "F - score of the model:  0.9786453119786453\n",
      "Precision score of the model:  0.9761904761904763\n",
      "Recall score of the model:  0.9824561403508771\n",
      "Confuion Matrix \n",
      " [[18  1  0]\n",
      " [ 0 13  0]\n",
      " [ 0  0 13]]\n"
     ]
    }
   ],
   "source": [
    "\n",
    "from sklearn.linear_model import LogisticRegression\n",
    "logic_model=LogisticRegression()\n",
    "logic_model.fit(X_train,y_train)\n",
    "y_pred=logic_model.predict(X_test)\n",
    "\n",
    "print(\"ACCURACY of the model: \", accuracy_score(y_test, y_pred))\n",
    "print(\"F - score of the model: \", f1_score(y_test, y_pred,average='macro'))\n",
    "print(\"Precision score of the model: \", precision_score(y_test, y_pred,average='macro'))\n",
    "print(\"Recall score of the model: \", recall_score(y_test, y_pred,average='macro'))\n",
    "print(\"Confuion Matrix \\n\", confusion_matrix(y_test, y_pred))"
   ]
  },
  {
   "cell_type": "markdown",
   "id": "6a07741c",
   "metadata": {},
   "source": [
    "# d) KNN Model"
   ]
  },
  {
   "cell_type": "code",
   "execution_count": 35,
   "id": "5bc92a1b",
   "metadata": {},
   "outputs": [
    {
     "name": "stdout",
     "output_type": "stream",
     "text": [
      "ACCURACY of the model:  0.9333333333333333\n",
      "F - score of the model:  0.9220389805097451\n",
      "Precision score of the model:  0.9375\n",
      "Recall score of the model:  0.923076923076923\n",
      "Confuion Matrix \n",
      " [[19  0  0]\n",
      " [ 0 10  3]\n",
      " [ 0  0 13]]\n"
     ]
    }
   ],
   "source": [
    "from sklearn.preprocessing import StandardScaler\n",
    "scaler=StandardScaler()\n",
    "X_train=scaler.fit_transform(X_train)\n",
    "X_test=scaler.fit_transform(X_test)\n",
    "logic_model=LogisticRegression()\n",
    "logic_model.fit(X_train,y_train)\n",
    "y_pred=logic_model.predict(X_test)\n",
    "# using metrics module for accuracy calculation\n",
    "print(\"ACCURACY of the model: \", accuracy_score(y_test, y_pred))\n",
    "print(\"F - score of the model: \", f1_score(y_test, y_pred,average='macro'))\n",
    "print(\"Precision score of the model: \", precision_score(y_test, y_pred,average='macro'))\n",
    "print(\"Recall score of the model: \", recall_score(y_test, y_pred,average='macro'))\n",
    "print(\"Confuion Matrix \\n\", confusion_matrix(y_test, y_pred))"
   ]
  },
  {
   "cell_type": "code",
   "execution_count": 36,
   "id": "65cf4e1e",
   "metadata": {},
   "outputs": [
    {
     "data": {
      "text/plain": [
       "Text(0, 0.5, 'accuracy')"
      ]
     },
     "execution_count": 36,
     "metadata": {},
     "output_type": "execute_result"
    },
    {
     "data": {
      "image/png": "[encoded data removed]",
      "text/plain": [
       "<Figure size 432x288 with 1 Axes>"
      ]
     },
     "metadata": {
      "needs_background": "light"
     },
     "output_type": "display_data"
    }
   ],
   "source": [
    "from sklearn.neighbors import KNeighborsClassifier\n",
    "acc_values=[]\n",
    "neighbors=np.arange(3,15)\n",
    "for k in neighbors:\n",
    "    classifier = KNeighborsClassifier(n_neighbors=k,metric='minkowski')\n",
    "    classifier.fit(X_train,y_train)\n",
    "    y_pred=classifier.predict(X_test)\n",
    "    accuracy=accuracy_score(y_test,y_pred)\n",
    "    acc_values.append(accuracy)\n",
    "    \n",
    "plt.plot(neighbors,acc_values,'o-')\n",
    "plt.xlabel('K Value')\n",
    "plt.ylabel('accuracy')"
   ]
  },
  {
   "cell_type": "code",
   "execution_count": 37,
   "id": "6c726e91",
   "metadata": {},
   "outputs": [
    {
     "name": "stdout",
     "output_type": "stream",
     "text": [
      "Accuracy when k=10 is 1.0\n",
      "Accuracy when k=2 is  1.0\n",
      "Accuracy when k=6 is  1.0\n"
     ]
    }
   ],
   "source": [
    "classifier = KNeighborsClassifier(n_neighbors=10,metric='minkowski')\n",
    "classifier.fit(X_train,y_train)\n",
    "y_pred=classifier.predict(X_test)\n",
    "print(\"Accuracy when k=10 is\",accuracy_score(y_test,y_pred))\n",
    "\n",
    "\n",
    "classifier = KNeighborsClassifier(n_neighbors=2,metric='minkowski')\n",
    "classifier.fit(X_train,y_train)\n",
    "y_pred=classifier.predict(X_test)\n",
    "print(\"Accuracy when k=2 is \",accuracy_score(y_test,y_pred))\n",
    "\n",
    "\n",
    "classifier = KNeighborsClassifier(n_neighbors=6,metric='minkowski')\n",
    "classifier.fit(X_train,y_train)\n",
    "y_pred=classifier.predict(X_test)\n",
    "print(\"Accuracy when k=6 is \",accuracy_score(y_test,y_pred))"
   ]
  },
  {
   "cell_type": "markdown",
   "id": "fbc78237",
   "metadata": {},
   "source": [
    "# e) Random Forest Classifier.\n"
   ]
  },
  {
   "cell_type": "code",
   "execution_count": 39,
   "id": "748595f6",
   "metadata": {},
   "outputs": [
    {
     "name": "stdout",
     "output_type": "stream",
     "text": [
      "ACCURACY of the model:  0.9777777777777777\n",
      "F - score of the model:  0.974320987654321\n",
      "Precision score of the model:  0.9761904761904763\n",
      "Recall score of the model:  0.9743589743589745\n",
      "Confuion Matrix \n",
      " [[19  0  0]\n",
      " [ 0 12  1]\n",
      " [ 0  0 13]]\n"
     ]
    }
   ],
   "source": [
    "from sklearn.ensemble import RandomForestClassifier\n",
    "clf = RandomForestClassifier(n_estimators = 100,random_state=0,criterion='entropy') \n",
    "clf.fit(X_train, y_train)\n",
    "y_pred = clf.predict(X_test)\n",
    "print(\"ACCURACY of the model: \", accuracy_score(y_test, y_pred))\n",
    "print(\"F - score of the model: \", f1_score(y_test, y_pred,average='macro'))\n",
    "print(\"Precision score of the model: \", precision_score(y_test, y_pred,average='macro'))\n",
    "print(\"Recall score of the model: \", recall_score(y_test, y_pred,average='macro'))\n",
    "print(\"Confuion Matrix \\n\", confusion_matrix(y_test, y_pred))"
   ]
  },
  {
   "cell_type": "markdown",
   "id": "76bad6aa",
   "metadata": {},
   "source": [
    "from the above tests , it is found that Decision Tree and KNN classifier model with no: of neighbour count 2,6,10 give best results in predicting the series. Higher the ACCURACY score and F score, the model is chosen."
   ]
  },
  {
   "cell_type": "code",
   "execution_count": null,
   "id": "6eda3dde",
   "metadata": {},
   "outputs": [],
   "source": []
  }
 ],
 "metadata": {
  "kernelspec": {
   "display_name": "Python 3 (ipykernel)",
   "language": "python",
   "name": "python3"
  },
  "language_info": {
   "codemirror_mode": {
    "name": "ipython",
    "version": 3
   },
   "file_extension": ".py",
   "mimetype": "text/x-python",
   "name": "python",
   "nbconvert_exporter": "python",
   "pygments_lexer": "ipython3",
   "version": "3.9.7"
  }
 },
 "nbformat": 4,
 "nbformat_minor": 5
}
